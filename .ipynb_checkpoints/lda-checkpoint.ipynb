{
 "cells": [
  {
   "cell_type": "code",
   "execution_count": 4,
   "metadata": {},
   "outputs": [
    {
     "ename": "AttributeError",
     "evalue": "'NoneType' object has no attribute 'shape'",
     "output_type": "error",
     "traceback": [
      "\u001b[1;31m---------------------------------------------------------------------------\u001b[0m",
      "\u001b[1;31mAttributeError\u001b[0m                            Traceback (most recent call last)",
      "Cell \u001b[1;32mIn[4], line 10\u001b[0m\n\u001b[0;32m      6\u001b[0m y \u001b[38;5;241m=\u001b[39m \u001b[38;5;28;01mNone\u001b[39;00m   \u001b[38;5;66;03m# target\u001b[39;00m\n\u001b[0;32m      8\u001b[0m classes \u001b[38;5;241m=\u001b[39m np\u001b[38;5;241m.\u001b[39munique(y) \u001b[38;5;66;03m# all classes\u001b[39;00m\n\u001b[1;32m---> 10\u001b[0m features \u001b[38;5;241m=\u001b[39m \u001b[43mX\u001b[49m\u001b[38;5;241;43m.\u001b[39;49m\u001b[43mshape\u001b[49m[\u001b[38;5;241m1\u001b[39m]\n\u001b[0;32m     12\u001b[0m means \u001b[38;5;241m=\u001b[39m np\u001b[38;5;241m.\u001b[39mmean(X, \u001b[38;5;241m0\u001b[39m)  \u001b[38;5;66;03m# calculate means\u001b[39;00m\n\u001b[0;32m     14\u001b[0m S_w_matrix \u001b[38;5;241m=\u001b[39m np\u001b[38;5;241m.\u001b[39mzeros(features, features) \u001b[38;5;66;03m# initialize Within class scatter matrix:\u001b[39;00m\n",
      "\u001b[1;31mAttributeError\u001b[0m: 'NoneType' object has no attribute 'shape'"
     ]
    }
   ],
   "source": [
    "import numpy as np\n",
    "\n",
    "# To do : import data set\n",
    "\n",
    "X = None\n",
    "y = None   # target\n",
    "\n",
    "classes = np.unique(y) # all classes\n",
    "\n",
    "features = X.shape[1]\n",
    "\n",
    "means = np.mean(X, 0)  # calculate means\n",
    "\n",
    "S_w_matrix = np.zeros(features, features) # initialize Within class scatter matrix:\n",
    "\n",
    "S_b_matrix = np.zeros(features, features) # initialize Between classes scatter matrix:\n",
    "\n",
    "for c in classes:\n",
    "    # for each class calculate the \n",
    "\n",
    "    X_c = X[y==c]\n",
    "    mean_c = np.mean(X_c, axis=0)\n",
    "\n",
    "    S_w_matrix += (X_c - mean_c).T.dot((X_c - mean_c))\n",
    "\n",
    "    n_c = X_c.shape[0]\n",
    "    mean_diff = (mean_c - means).reshape(features, 1)\n",
    "    S_b_matrix += n_c * (mean_diff).dot(mean_diff.T)\n",
    "\n",
    "\n",
    "S = np.linalg.inv(S_w_matrix).dot(S_b_matrix)\n",
    "\n",
    "eigen_values, eigen_vectors = np.linalg.eig(S)\n",
    "\n",
    "eigenvectors = eigen_vectors.T\n",
    "idxs = np.argsort(abs(eigen_values))[::-1]\n",
    "eigenvalues = eigen_values[idxs]\n",
    "eigenvectors = eigenvectors[idxs]\n",
    "\n",
    "# store first 2 eigenvectors in case of (we assume that we want to reduce 3D to 2D)\n",
    "lda = eigenvectors[0:2]\n",
    "\n",
    "res = np.dot(X, lda.T)\n",
    "\n"
   ]
  }
 ],
 "metadata": {
  "kernelspec": {
   "display_name": "Python 3 (ipykernel)",
   "language": "python",
   "name": "python3"
  },
  "language_info": {
   "codemirror_mode": {
    "name": "ipython",
    "version": 3
   },
   "file_extension": ".py",
   "mimetype": "text/x-python",
   "name": "python",
   "nbconvert_exporter": "python",
   "pygments_lexer": "ipython3",
   "version": "3.9.15"
  },
  "vscode": {
   "interpreter": {
    "hash": "916dbcbb3f70747c44a77c7bcd40155683ae19c65e1c03b4aa3499c5328201f1"
   }
  }
 },
 "nbformat": 4,
 "nbformat_minor": 2
}
