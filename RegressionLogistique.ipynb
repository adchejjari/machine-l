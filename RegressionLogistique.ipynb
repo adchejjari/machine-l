{
  "nbformat": 4,
  "nbformat_minor": 0,
  "metadata": {
    "colab": {
      "provenance": [],
      "history_visible": true
    },
    "kernelspec": {
      "name": "python3",
      "display_name": "Python 3"
    },
    "language_info": {
      "name": "python"
    }
  },
  "cells": [
    {
      "cell_type": "code",
      "source": [
        "import numpy as np\n",
        "import pandas as pd\n",
        "import matplotlib.pyplot as plt\n",
        "import seaborn as sns\n",
        "from sklearn import preprocessing\n",
        "from sklearn.model_selection import train_test_split\n",
        "from sklearn.metrics import confusion_matrix\n",
        "from sklearn.metrics import classification_report\n",
        "from sklearn.metrics import roc_curve, roc_auc_score\n",
        "from sklearn.metrics import accuracy_score, precision_score, recall_score"
      ],
      "metadata": {
        "id": "HbX2tymchI_h"
      },
      "execution_count": 302,
      "outputs": []
    },
    {
      "cell_type": "code",
      "source": [
        "def sigmoid(z):\n",
        "    \"\"\"\n",
        "    Calculates the sigmoid of z.\n",
        "\n",
        "    Args:\n",
        "        z (ndarray): The input to the sigmoid function. \n",
        "\n",
        "    Returns:\n",
        "        ndarray: The sigmoid of z.\n",
        "    \"\"\"\n",
        "\n",
        "    # Prevents the overflow error when computing the exponential function in the sigmoid function\n",
        "    z = np.clip(z, -500, 500)\n",
        "\n",
        "    return 1 / (1 + np.exp(-z))\n",
        "\n",
        "\n",
        "def cost(h, y):\n",
        "    \"\"\"\n",
        "    Calculates the cost of a logistic regression model.\n",
        "\n",
        "    Args:\n",
        "        h (ndarray): The hypothesis of the logistic regression model, a numpy array with shape (m, 1), where m is the number of samples.\n",
        "        y (ndarray): A vector containing the labels of the data, a numpy array with shape (m, 1).\n",
        "\n",
        "    Returns:\n",
        "        J (float): The cost of the logistic regression model.\n",
        "    \"\"\"\n",
        "\n",
        "    m = len(y)\n",
        "    \n",
        "    # Calculates the cost J using the logistic cost formula\n",
        "    # Adds a small positive value to h and 1-h to prevent logarithmic errors when computing the cost\n",
        "    J = (-1 / m) * np.sum(y * np.log(h + 1e-10) + (1 - y) * np.log(1 - h + 1e-10))\n",
        "    \n",
        "    return J\n",
        "\n",
        "def costfunction(X, y, params):\n",
        "    \"\"\"\n",
        "    Calculates the cost of a logistic regression model using the cost function defined before.\n",
        "\n",
        "    Args:\n",
        "        X (ndarray): A feature matrix containing the input data for the logistic regression.\n",
        "        y (ndarray): A vector containing the labels of the data.\n",
        "        params (ndarray): A vector of parameters to be optimized in order to minimize the cost function.\n",
        "\n",
        "    Returns:\n",
        "        J (float): The cost of the logistic regression model.\n",
        "    \"\"\"\n",
        "\n",
        "    z = np.dot(X, params)\n",
        "    \n",
        "    hypothesis = sigmoid(z)\n",
        "    \n",
        "    # Calculates the cost using the cost function defined previously \n",
        "    J = cost(hypothesis, y)\n",
        "\n",
        "    return J\n",
        "\n",
        "\n",
        "def gradient_descent(X, y, params, learning_rate, number_iterations):\n",
        "    \"\"\"\n",
        "    Performs gradient descent to minimize the cost function in logistic regression.\n",
        "    \n",
        "    Args:\n",
        "        X (ndarray): The feature matrix with size (m, n) where m is the number of examples and n is the number of features.\n",
        "        y (ndarray): The target vector with size (m, 1).\n",
        "        params (ndarray): The initial values of the parameters with size (n + 1, 1).\n",
        "        learning_rate (float): The step size for updating the parameters.\n",
        "        number_iterations (int): The number of iterations to perform gradient descent.\n",
        "    \n",
        "    Returns:\n",
        "        (params, J_history) where params is the optimal parameters and J_history is a list of the cost function values for each iteration.\n",
        "    \"\"\"\n",
        "   \n",
        "    m = len(y)\n",
        "    J_history = []\n",
        "    \n",
        "    for i in range(number_iterations):\n",
        "        h = sigmoid(np.dot(X, params))\n",
        "        \n",
        "        # Updates the parameters using gradient descent\n",
        "        params[1:] = params[1:] - (learning_rate/m) * np.dot(X.T, (h - y))[1:]\n",
        "        # Updates the biais parameters\n",
        "        params[0] = params[0] - (learning_rate/m) * np.mean(h - y)\n",
        "\n",
        "        J_history.append(costfunction(X, y, params))\n",
        "    \n",
        "    return params, J_history\n",
        "\n",
        "\n",
        "def logistic_regression(X, y, learning_rate, number_iterations):\n",
        "    \"\"\"\n",
        "    Performs logistic regression to fit a logistic model to the training data.\n",
        "    \n",
        "    Args:\n",
        "        X (ndarray): The feature matrix with size (m, n) where m is the number of examples and n is the number of features.\n",
        "        y (ndarray): The target vector with size (m, 1).\n",
        "        learning_rate (float): The step size for updating the parameters.\n",
        "        number_iterations (int): The number of iterations to perform gradient descent.\n",
        "    \n",
        "    Returns:\n",
        "        (params, J_history) where params is the optimal parameters and J_history is a list of the cost function values for each iteration.\n",
        "    \"\"\"\n",
        "    m, n = X.shape\n",
        "\n",
        "    # Adds a column of ones to the feature matrix for the intercept term\n",
        "    X = np.hstack((np.ones((m, 1)), X))\n",
        "\n",
        "    # Reshapes y to a column vector\n",
        "    y = y.reshape(m, 1)\n",
        "    \n",
        "    # Converts y to floating point numbers if it is not already a float\n",
        "    if not np.issubdtype(y.dtype, float):\n",
        "        y = y.astype(float)\n",
        "    \n",
        "    params = np.zeros((n + 1, 1))\n",
        "    \n",
        "    # Performs gradient descent to minimize the cost function\n",
        "    params, J_history = gradient_descent(X, y, params, learning_rate, number_iterations)\n",
        "    \n",
        "    return params, J_history\n",
        "\n",
        "\n",
        "\n",
        "def predict(X, params):\n",
        "    \"\"\"\n",
        "    Predicts class labels for a given set of examples X using the learned logistic regression parameters params.\n",
        "\n",
        "    Args:\n",
        "        X (ndarray) : A 2D array of shape (m, n), where m is the number of examples, and n is the number of features.\n",
        "        params (ndarray) : A 1D array of shape (n + 1,), representing the learned logistic regression parameters.\n",
        "\n",
        "    Returns:\n",
        "        ndarray : A 1D array of shape (m,), representing the predicted class labels (0 or 1).\n",
        "    \"\"\"\n",
        "    \n",
        "    m = len(X)\n",
        "\n",
        "    # Adds a column of ones to X to account for the bias term\n",
        "    X = np.hstack((np.ones((m, 1)), X))\n",
        "    \n",
        "    probas = sigmoid(np.dot(X, params))\n",
        "    \n",
        "    return np.where(probas >= 0.5, 1, 0)\n",
        "\n",
        "def accuracy(y_true, y_pred):\n",
        "    \"\"\"\n",
        "    Calculates the accuracy of a binary classification model.\n",
        "\n",
        "    Args:\n",
        "        y_true (ndarray): A vector of true binary labels (0 or 1).\n",
        "        y_pred (ndarray): A vector of predicted binary labels (0 or 1) generated by the classification model.\n",
        "\n",
        "    Returns:\n",
        "        accuracy (float): The accuracy of the binary classification model, a scalar value between 0 and 1.\n",
        "\n",
        "    \"\"\"\n",
        "    \n",
        "    # Calculates the number of samples that were classified correctly\n",
        "    accuracy = np.sum(y_true == y_pred) / len(y_true)\n",
        "    \n",
        "    return accuracy\n",
        "\n",
        "\n",
        "def precision(y_true, y_pred):\n",
        "    \"\"\"\n",
        "    Calculates the precision of a binary classification model.\n",
        "\n",
        "    Args:\n",
        "        y_true (ndarray): A vector containing the true labels of the data.\n",
        "        y_pred (ndarray): A vector containing the predicted labels of the data.\n",
        "\n",
        "    Returns:\n",
        "        precision (float): The precision of the binary classification model, a scalar value between 0 and 1.\n",
        "\n",
        "    \"\"\"\n",
        "\n",
        "    # Calculates the number of true positive predictions\n",
        "    tp = np.sum((y_pred == 1) & (y_true == 1))\n",
        "\n",
        "    # Calculates the number of true and false positive predictions\n",
        "    tp_fp = np.sum(y_pred == 1)\n",
        "\n",
        "    # If the model did not predict any positive instances\n",
        "    if tp == 0 and tp_fp == 0:\n",
        "      return 0\n",
        "    else:\n",
        "      # Calculates the precision as the number of true positive predictions divided by the number of true and false positive predictions\n",
        "      precision = tp / tp_fp\n",
        "      return precision"
      ],
      "metadata": {
        "id": "bfc_b9h-2eln"
      },
      "execution_count": 303,
      "outputs": []
    },
    {
      "cell_type": "code",
      "source": [
        "# Téléchargement des données Heart Failure Prediction\n",
        "data = pd.read_csv(\"heart.csv\")\n",
        "\n",
        "# Encodage de données catégoriques par étiquette\n",
        "label = preprocessing.LabelEncoder()\n",
        "data[\"Sex\"] = label.fit_transform(data[\"Sex\"])\n",
        "data[\"ChestPainType\"] = label.fit_transform(data[\"ChestPainType\"])\n",
        "data[\"RestingECG\"] = label.fit_transform(data[\"RestingECG\"])\n",
        "data[\"ExerciseAngina\"] = label.fit_transform(data[\"ExerciseAngina\"])\n",
        "data[\"ST_Slope\"] = label.fit_transform(data[\"ST_Slope\"])\n",
        "\n",
        "# Vérifier les valeurs manquantes dans toutes les colonnes\n",
        "for column in data.columns:\n",
        "    missing_values = data[column].isnull().sum()\n",
        "    if missing_values > 0:\n",
        "        missing_percentage = (missing_values / len(data)) * 100\n",
        "        print(f\"Column {column} has {missing_percentage:.2f}% missing values\\n\")\n",
        "    else:\n",
        "        print(f\"Column {column} has no missing values\\n\")\n",
        "\n",
        "# Diviser les données en caractéristiques et étiquettes\n",
        "X = data.iloc[:, :-1].values\n",
        "y = data.iloc[:, -1].values\n",
        "\n",
        "# Diviser le jeu de données en données d'entraînement et de test\n",
        "X_train, X_test, y_train, y_test = train_test_split(X, y, test_size=0.35, random_state = 42)\n",
        "\n",
        "y_train = y_train.reshape(-1, 1)\n",
        "y_test = y_test.reshape(-1, 1)\n",
        "\n",
        "#Entraîner le modèle en utilisant les données d'entraînement\n",
        "learning_rate = 0.01\n",
        "number_iterations = 100_000\n",
        "params, J_history = logistic_regression(X_train, y_train, learning_rate, number_iterations)\n",
        "\n",
        "#Faire des prédictions sur les données de test\n",
        "y_pred = predict(X_test, params)\n",
        "\n",
        "y_pred = y_pred.reshape(-1, 1)\n"
      ],
      "metadata": {
        "id": "Al8zZBaa-QPr",
        "colab": {
          "base_uri": "https://localhost:8080/"
        },
        "outputId": "76c5a1ea-cb21-4d95-f111-211be0ba0f32"
      },
      "execution_count": 304,
      "outputs": [
        {
          "output_type": "stream",
          "name": "stdout",
          "text": [
            "Column Age has no missing values\n",
            "\n",
            "Column Sex has no missing values\n",
            "\n",
            "Column ChestPainType has no missing values\n",
            "\n",
            "Column RestingBP has no missing values\n",
            "\n",
            "Column Cholesterol has no missing values\n",
            "\n",
            "Column FastingBS has no missing values\n",
            "\n",
            "Column RestingECG has no missing values\n",
            "\n",
            "Column MaxHR has no missing values\n",
            "\n",
            "Column ExerciseAngina has no missing values\n",
            "\n",
            "Column Oldpeak has no missing values\n",
            "\n",
            "Column ST_Slope has no missing values\n",
            "\n",
            "Column HeartDisease has no missing values\n",
            "\n"
          ]
        }
      ]
    },
    {
      "cell_type": "code",
      "source": [
        "# Evaluation du modèle\n",
        "print(\"Accuracy : \", accuracy(y_test, y_pred))\n",
        "print(\"Accuracy with sickit-learn: \", accuracy_score(y_test, y_pred))\n",
        "print(\"Accuracy in percent: %.2f%%\" % (accuracy(y_test, y_pred) * 100))\n",
        "print(\"\\n\")\n",
        "print(\"Precision: \", precision(y_test, y_pred))\n",
        "print(\"Precision with sickit-learn: \", precision_score(y_test, y_pred))\n",
        "print(\"Precision in percent: %.2f%%\" % (precision(y_test, y_pred) * 100))\n",
        "print(\"\\n\")\n",
        "print(\"Recall with sickit-learn: \", recall_score(y_test, y_pred))\n",
        "print(\"Recall in percent: %.2f%%\" % (recall_score(y_test, y_pred) * 100))"
      ],
      "metadata": {
        "colab": {
          "base_uri": "https://localhost:8080/"
        },
        "id": "CmWzgrtcrL_u",
        "outputId": "0fecb204-9b31-487c-d344-6b9e7e3b081e"
      },
      "execution_count": 305,
      "outputs": [
        {
          "output_type": "stream",
          "name": "stdout",
          "text": [
            "Accuracy :  0.8385093167701864\n",
            "Accuracy with sickit-learn:  0.8385093167701864\n",
            "Accuracy in percent: 83.85%\n",
            "\n",
            "\n",
            "Precision:  0.888268156424581\n",
            "Precision with sickit-learn:  0.888268156424581\n",
            "Precision in percent: 88.83%\n",
            "\n",
            "\n",
            "Recall with sickit-learn:  0.8324607329842932\n",
            "Recall in percent: 83.25%\n"
          ]
        }
      ]
    },
    {
      "cell_type": "code",
      "source": [
        "# Analyse des erreurs\n",
        "print(\"Confusion Matrix : \\n\")\n",
        "sns.heatmap(confusion_matrix(y_test, y_pred), annot=True, fmt='d', cmap=plt.cm.Reds)\n",
        "plt.title(\"Confusion Matrix RL\")\n",
        "plt.ylabel('True label')\n",
        "plt.xlabel('Predicted label')\n",
        "plt.figure(figsize=(8,6))\n",
        "plt.show()"
      ],
      "metadata": {
        "colab": {
          "base_uri": "https://localhost:8080/",
          "height": 347
        },
        "id": "Sj0quiyfrHSy",
        "outputId": "7f0f9731-9ec6-4879-f401-2141bc1c7f61"
      },
      "execution_count": 306,
      "outputs": [
        {
          "output_type": "stream",
          "name": "stdout",
          "text": [
            "Confusion Matrix : \n",
            "\n"
          ]
        },
        {
          "output_type": "display_data",
          "data": {
            "text/plain": [
              "<Figure size 432x288 with 2 Axes>"
            ],
            "image/png": "[encoded data removed]"
          },
          "metadata": {
            "needs_background": "light"
          }
        },
        {
          "output_type": "display_data",
          "data": {
            "text/plain": [
              "<Figure size 576x432 with 0 Axes>"
            ]
          },
          "metadata": {}
        }
      ]
    },
    {
      "cell_type": "code",
      "source": [
        "fpr, tpr, thresholds = roc_curve(y_test, y_pred)\n",
        "roc_auc = roc_auc_score(y_test, y_pred)\n",
        "\n",
        "plt.figure()\n",
        "plt.plot(fpr, tpr, color='yellow',\n",
        "         lw=2, label='ROC curve (area = %0.2f)' % roc_auc)\n",
        "plt.plot([0, 1], [0, 1], color='navy', lw=2, linestyle='--')\n",
        "plt.xlim([0.0, 1.0])\n",
        "plt.ylim([0.0, 1.1])\n",
        "plt.xlabel('False Positive Rate')\n",
        "plt.ylabel('True Positive Rate')\n",
        "plt.legend(loc=\"lower right\")\n",
        "plt.show()\n"
      ],
      "metadata": {
        "colab": {
          "base_uri": "https://localhost:8080/",
          "height": 279
        },
        "id": "1Dj8WJJFpH7n",
        "outputId": "82b59258-ce09-4001-fbbf-4ae362f1b702"
      },
      "execution_count": 307,
      "outputs": [
        {
          "output_type": "display_data",
          "data": {
            "text/plain": [
              "<Figure size 432x288 with 1 Axes>"
            ],
            "image/png": "[encoded data removed]"
          },
          "metadata": {
            "needs_background": "light"
          }
        }
      ]
    },
    {
      "cell_type": "code",
      "source": [
        "residuals = y_test - y_pred\n",
        "sns.distplot(residuals)\n",
        "plt.xlabel('Residuals')\n",
        "plt.ylabel('Density')\n",
        "plt.title('Distribution of Residuals')\n",
        "plt.show()"
      ],
      "metadata": {
        "colab": {
          "base_uri": "https://localhost:8080/",
          "height": 350
        },
        "id": "TmRZSLkjqvKV",
        "outputId": "22cc5474-07a0-4029-f518-888d95ab7ebc"
      },
      "execution_count": 308,
      "outputs": [
        {
          "output_type": "stream",
          "name": "stderr",
          "text": [
            "/usr/local/lib/python3.8/dist-packages/seaborn/distributions.py:2619: FutureWarning: `distplot` is a deprecated function and will be removed in a future version. Please adapt your code to use either `displot` (a figure-level function with similar flexibility) or `histplot` (an axes-level function for histograms).\n",
            "  warnings.warn(msg, FutureWarning)\n"
          ]
        },
        {
          "output_type": "display_data",
          "data": {
            "text/plain": [
              "<Figure size 432x288 with 1 Axes>"
            ],
            "image/png": "[encoded data removed]"
          },
          "metadata": {
            "needs_background": "light"
          }
        }
      ]
    },
    {
      "cell_type": "code",
      "source": [
        "from sklearn.datasets import load_breast_cancer\n",
        "from sklearn import datasets\n",
        "\n",
        "data_cancer = datasets.load_breast_cancer()\n",
        "X = data_cancer.data\n",
        "y = data_cancer.target\n",
        "\n",
        "# Diviser le jeu de données en données d'entraînement et de test\n",
        "X_train, X_test, y_train, y_test = train_test_split(X, y, test_size=0.2, random_state = 42)\n",
        "\n",
        "y_train = y_train.reshape(-1, 1)\n",
        "y_test = y_test.reshape(-1, 1)\n",
        "\n",
        "#Entraîner le modèle en utilisant les données d'entraînement\n",
        "learning_rate = 0.01\n",
        "number_iterations = 100_000\n",
        "params, J_history = logistic_regression(X_train, y_train, learning_rate, number_iterations)\n",
        "\n",
        "#Faire des prédictions sur les données de test\n",
        "y_pred = predict(X_test, params)\n",
        "\n",
        "y_pred = y_pred.reshape(-1, 1)"
      ],
      "metadata": {
        "id": "IzH6MK6B-fuc"
      },
      "execution_count": 309,
      "outputs": []
    },
    {
      "cell_type": "code",
      "source": [
        "# Evaluation du modèle\n",
        "print(\"Accuracy : \", accuracy(y_test, y_pred))\n",
        "print(\"Accuracy with sickit-learn: \", accuracy_score(y_test, y_pred))\n",
        "print(\"Accuracy in percent: %.2f%%\" % (accuracy(y_test, y_pred) * 100))\n",
        "print(\"\\n\")\n",
        "print(\"Precision: \", precision(y_test, y_pred))\n",
        "print(\"Precision with sickit-learn: \", precision_score(y_test, y_pred))\n",
        "print(\"Precision in percent: %.2f%%\" % (precision(y_test, y_pred) * 100))\n",
        "print(\"\\n\")\n",
        "print(\"Recall with sickit-learn: \", recall_score(y_test, y_pred))\n",
        "print(\"Recall in percent: %.2f%%\" % (recall_score(y_test, y_pred) * 100))"
      ],
      "metadata": {
        "colab": {
          "base_uri": "https://localhost:8080/"
        },
        "id": "3lTP-pyI_Aj2",
        "outputId": "e415125b-e0c4-4a21-da50-808caf485479"
      },
      "execution_count": 310,
      "outputs": [
        {
          "output_type": "stream",
          "name": "stdout",
          "text": [
            "Accuracy :  0.9649122807017544\n",
            "Accuracy with sickit-learn:  0.9649122807017544\n",
            "Accuracy in percent: 96.49%\n",
            "\n",
            "\n",
            "Precision:  0.971830985915493\n",
            "Precision with sickit-learn:  0.971830985915493\n",
            "Precision in percent: 97.18%\n",
            "\n",
            "\n",
            "Recall with sickit-learn:  0.971830985915493\n",
            "Recall in percent: 97.18%\n"
          ]
        }
      ]
    },
    {
      "cell_type": "code",
      "source": [
        "# Analyse des erreurs\n",
        "print(\"Confusion Matrix : \\n\")\n",
        "sns.heatmap(confusion_matrix(y_test, y_pred), annot=True, fmt='d', cmap=plt.cm.Reds)\n",
        "plt.title(\"Confusion Matrix RL\")\n",
        "plt.ylabel('True label')\n",
        "plt.xlabel('Predicted label')\n",
        "plt.figure(figsize=(8,6))\n",
        "plt.show()"
      ],
      "metadata": {
        "colab": {
          "base_uri": "https://localhost:8080/",
          "height": 347
        },
        "id": "sDgzAhIvFcg_",
        "outputId": "6ddd5d51-d760-459d-8f30-6d7c203203d0"
      },
      "execution_count": 311,
      "outputs": [
        {
          "output_type": "stream",
          "name": "stdout",
          "text": [
            "Confusion Matrix : \n",
            "\n"
          ]
        },
        {
          "output_type": "display_data",
          "data": {
            "text/plain": [
              "<Figure size 432x288 with 2 Axes>"
            ],
            "image/png": "[encoded data removed]"
          },
          "metadata": {
            "needs_background": "light"
          }
        },
        {
          "output_type": "display_data",
          "data": {
            "text/plain": [
              "<Figure size 576x432 with 0 Axes>"
            ]
          },
          "metadata": {}
        }
      ]
    },
    {
      "cell_type": "code",
      "source": [
        "fpr, tpr, thresholds = roc_curve(y_test, y_pred)\n",
        "roc_auc = roc_auc_score(y_test, y_pred)\n",
        "\n",
        "plt.figure()\n",
        "plt.plot(fpr, tpr, color='yellow',\n",
        "         lw=2, label='ROC curve (area = %0.2f)' % roc_auc)\n",
        "plt.plot([0, 1], [0, 1], color='navy', lw=2, linestyle='--')\n",
        "plt.xlim([0.0, 1.0])\n",
        "plt.ylim([0.0, 1.1])\n",
        "plt.xlabel('False Positive Rate')\n",
        "plt.ylabel('True Positive Rate')\n",
        "plt.legend(loc=\"lower right\")\n",
        "plt.show()"
      ],
      "metadata": {
        "colab": {
          "base_uri": "https://localhost:8080/",
          "height": 279
        },
        "id": "YP1qdP5tFf98",
        "outputId": "9ee2c62d-b8e1-44b0-810f-a5559d1de47c"
      },
      "execution_count": 312,
      "outputs": [
        {
          "output_type": "display_data",
          "data": {
            "text/plain": [
              "<Figure size 432x288 with 1 Axes>"
            ],
            "image/png": "[encoded data removed]"
          },
          "metadata": {
            "needs_background": "light"
          }
        }
      ]
    },
    {
      "cell_type": "code",
      "source": [
        "residuals = y_test - y_pred\n",
        "sns.distplot(residuals)\n",
        "plt.xlabel('Residuals')\n",
        "plt.ylabel('Density')\n",
        "plt.title('Distribution of Residuals')\n",
        "plt.show()"
      ],
      "metadata": {
        "colab": {
          "base_uri": "https://localhost:8080/",
          "height": 350
        },
        "id": "rLMPrjG_FghG",
        "outputId": "3143f51a-2ee2-479b-d9cc-bf07dcc63b2b"
      },
      "execution_count": 313,
      "outputs": [
        {
          "output_type": "stream",
          "name": "stderr",
          "text": [
            "/usr/local/lib/python3.8/dist-packages/seaborn/distributions.py:2619: FutureWarning: `distplot` is a deprecated function and will be removed in a future version. Please adapt your code to use either `displot` (a figure-level function with similar flexibility) or `histplot` (an axes-level function for histograms).\n",
            "  warnings.warn(msg, FutureWarning)\n"
          ]
        },
        {
          "output_type": "display_data",
          "data": {
            "text/plain": [
              "<Figure size 432x288 with 1 Axes>"
            ],
            "image/png": "[encoded data removed]"
          },
          "metadata": {
            "needs_background": "light"
          }
        }
      ]
    }
  ]
}