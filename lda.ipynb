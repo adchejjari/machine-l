{
 "cells": [
  {
   "attachments": {},
   "cell_type": "markdown",
   "metadata": {},
   "source": [
    "\n"
   ]
  },
  {
   "cell_type": "code",
   "execution_count": 1,
   "metadata": {},
   "outputs": [],
   "source": [
    "# required libraries\n",
    "import numpy as np\n",
    "import pandas as pd\n",
    "from dateutil.parser import ParserError\n",
    "from sklearn.preprocessing import LabelEncoder\n",
    "import matplotlib.pyplot as plt\n",
    "from math import log2\n"
   ]
  },
  {
   "cell_type": "code",
   "execution_count": 2,
   "metadata": {},
   "outputs": [
    {
     "data": {
      "text/html": [
       "<div>\n",
       "<style scoped>\n",
       "    .dataframe tbody tr th:only-of-type {\n",
       "        vertical-align: middle;\n",
       "    }\n",
       "\n",
       "    .dataframe tbody tr th {\n",
       "        vertical-align: top;\n",
       "    }\n",
       "\n",
       "    .dataframe thead th {\n",
       "        text-align: right;\n",
       "    }\n",
       "</style>\n",
       "<table border=\"1\" class=\"dataframe\">\n",
       "  <thead>\n",
       "    <tr style=\"text-align: right;\">\n",
       "      <th></th>\n",
       "      <th>Age</th>\n",
       "      <th>Sex</th>\n",
       "      <th>ChestPainType</th>\n",
       "      <th>RestingBP</th>\n",
       "      <th>Cholesterol</th>\n",
       "      <th>FastingBS</th>\n",
       "      <th>RestingECG</th>\n",
       "      <th>MaxHR</th>\n",
       "      <th>ExerciseAngina</th>\n",
       "      <th>Oldpeak</th>\n",
       "      <th>ST_Slope</th>\n",
       "      <th>HeartDisease</th>\n",
       "    </tr>\n",
       "  </thead>\n",
       "  <tbody>\n",
       "    <tr>\n",
       "      <th>0</th>\n",
       "      <td>40</td>\n",
       "      <td>M</td>\n",
       "      <td>ATA</td>\n",
       "      <td>140</td>\n",
       "      <td>289</td>\n",
       "      <td>0</td>\n",
       "      <td>Normal</td>\n",
       "      <td>172</td>\n",
       "      <td>N</td>\n",
       "      <td>0.0</td>\n",
       "      <td>Up</td>\n",
       "      <td>0</td>\n",
       "    </tr>\n",
       "    <tr>\n",
       "      <th>1</th>\n",
       "      <td>49</td>\n",
       "      <td>F</td>\n",
       "      <td>NAP</td>\n",
       "      <td>160</td>\n",
       "      <td>180</td>\n",
       "      <td>0</td>\n",
       "      <td>Normal</td>\n",
       "      <td>156</td>\n",
       "      <td>N</td>\n",
       "      <td>1.0</td>\n",
       "      <td>Flat</td>\n",
       "      <td>1</td>\n",
       "    </tr>\n",
       "    <tr>\n",
       "      <th>2</th>\n",
       "      <td>37</td>\n",
       "      <td>M</td>\n",
       "      <td>ATA</td>\n",
       "      <td>130</td>\n",
       "      <td>283</td>\n",
       "      <td>0</td>\n",
       "      <td>ST</td>\n",
       "      <td>98</td>\n",
       "      <td>N</td>\n",
       "      <td>0.0</td>\n",
       "      <td>Up</td>\n",
       "      <td>0</td>\n",
       "    </tr>\n",
       "    <tr>\n",
       "      <th>3</th>\n",
       "      <td>48</td>\n",
       "      <td>F</td>\n",
       "      <td>ASY</td>\n",
       "      <td>138</td>\n",
       "      <td>214</td>\n",
       "      <td>0</td>\n",
       "      <td>Normal</td>\n",
       "      <td>108</td>\n",
       "      <td>Y</td>\n",
       "      <td>1.5</td>\n",
       "      <td>Flat</td>\n",
       "      <td>1</td>\n",
       "    </tr>\n",
       "    <tr>\n",
       "      <th>4</th>\n",
       "      <td>54</td>\n",
       "      <td>M</td>\n",
       "      <td>NAP</td>\n",
       "      <td>150</td>\n",
       "      <td>195</td>\n",
       "      <td>0</td>\n",
       "      <td>Normal</td>\n",
       "      <td>122</td>\n",
       "      <td>N</td>\n",
       "      <td>0.0</td>\n",
       "      <td>Up</td>\n",
       "      <td>0</td>\n",
       "    </tr>\n",
       "  </tbody>\n",
       "</table>\n",
       "</div>"
      ],
      "text/plain": [
       "   Age Sex ChestPainType  RestingBP  Cholesterol  FastingBS RestingECG  MaxHR  \\\n",
       "0   40   M           ATA        140          289          0     Normal    172   \n",
       "1   49   F           NAP        160          180          0     Normal    156   \n",
       "2   37   M           ATA        130          283          0         ST     98   \n",
       "3   48   F           ASY        138          214          0     Normal    108   \n",
       "4   54   M           NAP        150          195          0     Normal    122   \n",
       "\n",
       "  ExerciseAngina  Oldpeak ST_Slope  HeartDisease  \n",
       "0              N      0.0       Up             0  \n",
       "1              N      1.0     Flat             1  \n",
       "2              N      0.0       Up             0  \n",
       "3              Y      1.5     Flat             1  \n",
       "4              N      0.0       Up             0  "
      ]
     },
     "execution_count": 2,
     "metadata": {},
     "output_type": "execute_result"
    }
   ],
   "source": [
    "#chargement du dataset avec pandas\n",
    "data = pd.read_csv('heart.csv')\n",
    "data.head()"
   ]
  },
  {
   "cell_type": "code",
   "execution_count": 3,
   "metadata": {},
   "outputs": [
    {
     "data": {
      "text/plain": [
       "(918, 12)"
      ]
     },
     "execution_count": 3,
     "metadata": {},
     "output_type": "execute_result"
    }
   ],
   "source": [
    "data.shape\n",
    "#12 attributs \n",
    "#918 observations"
   ]
  },
  {
   "cell_type": "code",
   "execution_count": 4,
   "metadata": {},
   "outputs": [
    {
     "data": {
      "text/plain": [
       "Index(['Age', 'Sex', 'ChestPainType', 'RestingBP', 'Cholesterol', 'FastingBS',\n",
       "       'RestingECG', 'MaxHR', 'ExerciseAngina', 'Oldpeak', 'ST_Slope',\n",
       "       'HeartDisease'],\n",
       "      dtype='object')"
      ]
     },
     "execution_count": 4,
     "metadata": {},
     "output_type": "execute_result"
    }
   ],
   "source": [
    "#Quels sont les attributs de notre dataset\n",
    "data.columns"
   ]
  },
  {
   "cell_type": "code",
   "execution_count": 5,
   "metadata": {},
   "outputs": [
    {
     "name": "stdout",
     "output_type": "stream",
     "text": [
      "<class 'pandas.core.frame.DataFrame'>\n",
      "RangeIndex: 918 entries, 0 to 917\n",
      "Data columns (total 12 columns):\n",
      " #   Column          Non-Null Count  Dtype  \n",
      "---  ------          --------------  -----  \n",
      " 0   Age             918 non-null    int64  \n",
      " 1   Sex             918 non-null    object \n",
      " 2   ChestPainType   918 non-null    object \n",
      " 3   RestingBP       918 non-null    int64  \n",
      " 4   Cholesterol     918 non-null    int64  \n",
      " 5   FastingBS       918 non-null    int64  \n",
      " 6   RestingECG      918 non-null    object \n",
      " 7   MaxHR           918 non-null    int64  \n",
      " 8   ExerciseAngina  918 non-null    object \n",
      " 9   Oldpeak         918 non-null    float64\n",
      " 10  ST_Slope        918 non-null    object \n",
      " 11  HeartDisease    918 non-null    int64  \n",
      "dtypes: float64(1), int64(6), object(5)\n",
      "memory usage: 86.2+ KB\n"
     ]
    }
   ],
   "source": [
    "data.info()"
   ]
  },
  {
   "cell_type": "code",
   "execution_count": 6,
   "metadata": {},
   "outputs": [],
   "source": [
    "list_features=list(data.columns)\n",
    "categorical= []\n",
    "numerical = []\n",
    "\n",
    "#nombre de valeurs uniques pour chaque colonne s'il y en a beaucoup cela signifie que nous avons une classe numérique\n",
    "\n",
    "for i in list_features:\n",
    "    if(len(data[i].unique())>5): \n",
    "            numerical.append(i)\n",
    "    else:\n",
    "            categorical.append(i)\n",
    "\n",
    "\n",
    "\n",
    "le=LabelEncoder()\n",
    "\n",
    "for i in categorical :\n",
    "    data[i]=le.fit_transform(data[i])"
   ]
  },
  {
   "cell_type": "markdown",
   "metadata": {},
   "source": []
  },
  {
   "cell_type": "code",
   "execution_count": 7,
   "metadata": {},
   "outputs": [
    {
     "name": "stdout",
     "output_type": "stream",
     "text": [
      "<class 'pandas.core.frame.DataFrame'>\n",
      "RangeIndex: 918 entries, 0 to 917\n",
      "Data columns (total 12 columns):\n",
      " #   Column          Non-Null Count  Dtype  \n",
      "---  ------          --------------  -----  \n",
      " 0   Age             918 non-null    int64  \n",
      " 1   Sex             918 non-null    int64  \n",
      " 2   ChestPainType   918 non-null    int64  \n",
      " 3   RestingBP       918 non-null    int64  \n",
      " 4   Cholesterol     918 non-null    int64  \n",
      " 5   FastingBS       918 non-null    int64  \n",
      " 6   RestingECG      918 non-null    int64  \n",
      " 7   MaxHR           918 non-null    int64  \n",
      " 8   ExerciseAngina  918 non-null    int64  \n",
      " 9   Oldpeak         918 non-null    float64\n",
      " 10  ST_Slope        918 non-null    int64  \n",
      " 11  HeartDisease    918 non-null    int64  \n",
      "dtypes: float64(1), int64(11)\n",
      "memory usage: 86.2 KB\n"
     ]
    }
   ],
   "source": [
    "data.info()"
   ]
  },
  {
   "cell_type": "code",
   "execution_count": 8,
   "metadata": {},
   "outputs": [
    {
     "data": {
      "text/html": [
       "<div>\n",
       "<style scoped>\n",
       "    .dataframe tbody tr th:only-of-type {\n",
       "        vertical-align: middle;\n",
       "    }\n",
       "\n",
       "    .dataframe tbody tr th {\n",
       "        vertical-align: top;\n",
       "    }\n",
       "\n",
       "    .dataframe thead th {\n",
       "        text-align: right;\n",
       "    }\n",
       "</style>\n",
       "<table border=\"1\" class=\"dataframe\">\n",
       "  <thead>\n",
       "    <tr style=\"text-align: right;\">\n",
       "      <th></th>\n",
       "      <th>count</th>\n",
       "      <th>mean</th>\n",
       "      <th>std</th>\n",
       "      <th>min</th>\n",
       "      <th>25%</th>\n",
       "      <th>50%</th>\n",
       "      <th>75%</th>\n",
       "      <th>max</th>\n",
       "    </tr>\n",
       "  </thead>\n",
       "  <tbody>\n",
       "    <tr>\n",
       "      <th>Age</th>\n",
       "      <td>918.0</td>\n",
       "      <td>53.510893</td>\n",
       "      <td>9.432617</td>\n",
       "      <td>28.0</td>\n",
       "      <td>47.00</td>\n",
       "      <td>54.0</td>\n",
       "      <td>60.0</td>\n",
       "      <td>77.0</td>\n",
       "    </tr>\n",
       "    <tr>\n",
       "      <th>Sex</th>\n",
       "      <td>918.0</td>\n",
       "      <td>0.789760</td>\n",
       "      <td>0.407701</td>\n",
       "      <td>0.0</td>\n",
       "      <td>1.00</td>\n",
       "      <td>1.0</td>\n",
       "      <td>1.0</td>\n",
       "      <td>1.0</td>\n",
       "    </tr>\n",
       "    <tr>\n",
       "      <th>ChestPainType</th>\n",
       "      <td>918.0</td>\n",
       "      <td>0.781046</td>\n",
       "      <td>0.956519</td>\n",
       "      <td>0.0</td>\n",
       "      <td>0.00</td>\n",
       "      <td>0.0</td>\n",
       "      <td>2.0</td>\n",
       "      <td>3.0</td>\n",
       "    </tr>\n",
       "    <tr>\n",
       "      <th>RestingBP</th>\n",
       "      <td>918.0</td>\n",
       "      <td>132.396514</td>\n",
       "      <td>18.514154</td>\n",
       "      <td>0.0</td>\n",
       "      <td>120.00</td>\n",
       "      <td>130.0</td>\n",
       "      <td>140.0</td>\n",
       "      <td>200.0</td>\n",
       "    </tr>\n",
       "    <tr>\n",
       "      <th>Cholesterol</th>\n",
       "      <td>918.0</td>\n",
       "      <td>198.799564</td>\n",
       "      <td>109.384145</td>\n",
       "      <td>0.0</td>\n",
       "      <td>173.25</td>\n",
       "      <td>223.0</td>\n",
       "      <td>267.0</td>\n",
       "      <td>603.0</td>\n",
       "    </tr>\n",
       "    <tr>\n",
       "      <th>FastingBS</th>\n",
       "      <td>918.0</td>\n",
       "      <td>0.233115</td>\n",
       "      <td>0.423046</td>\n",
       "      <td>0.0</td>\n",
       "      <td>0.00</td>\n",
       "      <td>0.0</td>\n",
       "      <td>0.0</td>\n",
       "      <td>1.0</td>\n",
       "    </tr>\n",
       "    <tr>\n",
       "      <th>RestingECG</th>\n",
       "      <td>918.0</td>\n",
       "      <td>0.989107</td>\n",
       "      <td>0.631671</td>\n",
       "      <td>0.0</td>\n",
       "      <td>1.00</td>\n",
       "      <td>1.0</td>\n",
       "      <td>1.0</td>\n",
       "      <td>2.0</td>\n",
       "    </tr>\n",
       "    <tr>\n",
       "      <th>MaxHR</th>\n",
       "      <td>918.0</td>\n",
       "      <td>136.809368</td>\n",
       "      <td>25.460334</td>\n",
       "      <td>60.0</td>\n",
       "      <td>120.00</td>\n",
       "      <td>138.0</td>\n",
       "      <td>156.0</td>\n",
       "      <td>202.0</td>\n",
       "    </tr>\n",
       "    <tr>\n",
       "      <th>ExerciseAngina</th>\n",
       "      <td>918.0</td>\n",
       "      <td>0.404139</td>\n",
       "      <td>0.490992</td>\n",
       "      <td>0.0</td>\n",
       "      <td>0.00</td>\n",
       "      <td>0.0</td>\n",
       "      <td>1.0</td>\n",
       "      <td>1.0</td>\n",
       "    </tr>\n",
       "    <tr>\n",
       "      <th>Oldpeak</th>\n",
       "      <td>918.0</td>\n",
       "      <td>0.887364</td>\n",
       "      <td>1.066570</td>\n",
       "      <td>-2.6</td>\n",
       "      <td>0.00</td>\n",
       "      <td>0.6</td>\n",
       "      <td>1.5</td>\n",
       "      <td>6.2</td>\n",
       "    </tr>\n",
       "    <tr>\n",
       "      <th>ST_Slope</th>\n",
       "      <td>918.0</td>\n",
       "      <td>1.361656</td>\n",
       "      <td>0.607056</td>\n",
       "      <td>0.0</td>\n",
       "      <td>1.00</td>\n",
       "      <td>1.0</td>\n",
       "      <td>2.0</td>\n",
       "      <td>2.0</td>\n",
       "    </tr>\n",
       "    <tr>\n",
       "      <th>HeartDisease</th>\n",
       "      <td>918.0</td>\n",
       "      <td>0.553377</td>\n",
       "      <td>0.497414</td>\n",
       "      <td>0.0</td>\n",
       "      <td>0.00</td>\n",
       "      <td>1.0</td>\n",
       "      <td>1.0</td>\n",
       "      <td>1.0</td>\n",
       "    </tr>\n",
       "  </tbody>\n",
       "</table>\n",
       "</div>"
      ],
      "text/plain": [
       "                count        mean         std   min     25%    50%    75%  \\\n",
       "Age             918.0   53.510893    9.432617  28.0   47.00   54.0   60.0   \n",
       "Sex             918.0    0.789760    0.407701   0.0    1.00    1.0    1.0   \n",
       "ChestPainType   918.0    0.781046    0.956519   0.0    0.00    0.0    2.0   \n",
       "RestingBP       918.0  132.396514   18.514154   0.0  120.00  130.0  140.0   \n",
       "Cholesterol     918.0  198.799564  109.384145   0.0  173.25  223.0  267.0   \n",
       "FastingBS       918.0    0.233115    0.423046   0.0    0.00    0.0    0.0   \n",
       "RestingECG      918.0    0.989107    0.631671   0.0    1.00    1.0    1.0   \n",
       "MaxHR           918.0  136.809368   25.460334  60.0  120.00  138.0  156.0   \n",
       "ExerciseAngina  918.0    0.404139    0.490992   0.0    0.00    0.0    1.0   \n",
       "Oldpeak         918.0    0.887364    1.066570  -2.6    0.00    0.6    1.5   \n",
       "ST_Slope        918.0    1.361656    0.607056   0.0    1.00    1.0    2.0   \n",
       "HeartDisease    918.0    0.553377    0.497414   0.0    0.00    1.0    1.0   \n",
       "\n",
       "                  max  \n",
       "Age              77.0  \n",
       "Sex               1.0  \n",
       "ChestPainType     3.0  \n",
       "RestingBP       200.0  \n",
       "Cholesterol     603.0  \n",
       "FastingBS         1.0  \n",
       "RestingECG        2.0  \n",
       "MaxHR           202.0  \n",
       "ExerciseAngina    1.0  \n",
       "Oldpeak           6.2  \n",
       "ST_Slope          2.0  \n",
       "HeartDisease      1.0  "
      ]
     },
     "execution_count": 8,
     "metadata": {},
     "output_type": "execute_result"
    }
   ],
   "source": [
    "data.describe().T"
   ]
  },
  {
   "cell_type": "code",
   "execution_count": 9,
   "metadata": {},
   "outputs": [],
   "source": [
    "# Target\n",
    "y = np.array(data.HeartDisease)\n",
    "\n",
    "X = list()\n",
    "for feat in list(data.columns):\n",
    "    X.append(list(data[feat]))\n",
    "\n",
    "# Features\n",
    "X  = np.array(X[:-1]).T\n",
    "\n",
    "\n"
   ]
  },
  {
   "attachments": {},
   "cell_type": "markdown",
   "metadata": {},
   "source": [
    "***On commence par réduire le nombre de dimention de 11 à 2 afin de pouvoir afficher les données***\n"
   ]
  },
  {
   "cell_type": "code",
   "execution_count": 10,
   "metadata": {},
   "outputs": [
    {
     "name": "stdout",
     "output_type": "stream",
     "text": [
      "le nombre de features est :  11\n",
      "le nombre de classes est :  2\n"
     ]
    }
   ],
   "source": [
    "number_of_features = X.shape[1]\n",
    "\n",
    "classes = np.unique(y)\n",
    "\n",
    "number_of_classes = len(classes)\n",
    "\n",
    "print(f\"le nombre de features est : \", number_of_features)\n",
    "print(f\"le nombre de classes est : \", number_of_classes)\n",
    "\n"
   ]
  },
  {
   "cell_type": "code",
   "execution_count": 11,
   "metadata": {},
   "outputs": [
    {
     "name": "stdout",
     "output_type": "stream",
     "text": [
      "[ 53.51089325   0.78976035   0.78104575 132.39651416 198.79956427\n",
      "   0.23311547   0.98910675 136.80936819   0.40413943   0.88736383\n",
      "   1.36165577]\n"
     ]
    }
   ],
   "source": [
    "\n",
    "\n",
    "\n",
    "#Calcul de la moyenne des features\n",
    "means = np.mean(X, 0)\n",
    "print(means)"
   ]
  },
  {
   "cell_type": "code",
   "execution_count": 12,
   "metadata": {},
   "outputs": [
    {
     "name": "stdout",
     "output_type": "stream",
     "text": [
      "[array([5.05512195e+01, 6.51219512e-01, 1.19268293e+00, 1.30180488e+02,\n",
      "       2.27121951e+02, 1.07317073e-01, 9.48780488e-01, 1.48151220e+02,\n",
      "       1.34146341e-01, 4.08048780e-01, 1.73902439e+00]), array([ 55.8996063 ,   0.9015748 ,   0.4488189 , 134.18503937,\n",
      "       175.94094488,   0.33464567,   1.02165354, 127.65551181,\n",
      "         0.62204724,   1.2742126 ,   1.05708661])]\n"
     ]
    }
   ],
   "source": [
    "# calcul des scatter matrix\n",
    "\n",
    "\n",
    "S_w_matrix = np.zeros((number_of_features, number_of_features)) # initialize Within class scatter matrix:\n",
    "\n",
    "S_b_matrix = np.zeros((number_of_features, number_of_features)) # initialize Between classes scatter matrix:\n",
    "\n",
    "class_means = []\n",
    "unique_classes = np.unique(y)\n",
    "for c in unique_classes:\n",
    "    class_mean = np.mean(X[y == c], axis=0)\n",
    "    class_means.append(class_mean)\n",
    "\n",
    "print(class_means)"
   ]
  },
  {
   "cell_type": "code",
   "execution_count": 13,
   "metadata": {},
   "outputs": [],
   "source": [
    "for c in unique_classes:\n",
    "    # for each class calculate the \n",
    "\n",
    "    X_c = X[y==c]\n",
    "    mean_c = np.mean(X_c, axis=0)\n",
    "\n",
    "    S_w_matrix += (X_c - mean_c).T.dot((X_c - mean_c))\n",
    "\n",
    "    n_c = X_c.shape[0]\n",
    "    mean_diff = (mean_c - means).reshape(number_of_features, 1)\n",
    "    S_b_matrix += n_c * (mean_diff).dot(mean_diff.T)"
   ]
  },
  {
   "cell_type": "code",
   "execution_count": 14,
   "metadata": {},
   "outputs": [
    {
     "name": "stderr",
     "output_type": "stream",
     "text": [
      "/home/ad/.local/lib/python3.8/site-packages/matplotlib/collections.py:193: ComplexWarning: Casting complex values to real discards the imaginary part\n",
      "  offsets = np.asanyarray(offsets, float)\n"
     ]
    },
    {
     "data": {
      "text/plain": [
       "<matplotlib.collections.PathCollection at 0x7f32e8086f70>"
      ]
     },
     "execution_count": 14,
     "metadata": {},
     "output_type": "execute_result"
    },
    {
     "data": {
      "image/png": "[encoded data removed]",
      "text/plain": [
       "<Figure size 432x288 with 1 Axes>"
      ]
     },
     "metadata": {
      "needs_background": "light"
     },
     "output_type": "display_data"
    }
   ],
   "source": [
    "\n",
    "\n",
    "\n",
    "S = np.linalg.inv(S_w_matrix).dot(S_b_matrix)\n",
    "\n",
    "eigen_values, eigen_vectors = np.linalg.eig(S)\n",
    "\n",
    "eigenvectors = eigen_vectors.T\n",
    "idxs = np.argsort(abs(eigen_values))[::-1]\n",
    "eigenvalues = eigen_values[idxs]\n",
    "eigenvectors = eigenvectors[idxs]\n",
    "\n",
    "# store first 2 eigenvectors in case of (we assume that we want to reduce 3D to 2D)\n",
    "lda = eigenvectors[0:2]\n",
    "\n",
    "\n",
    "\n",
    "# Project the data\n",
    "res = np.dot(X, lda.T)\n",
    "\n",
    "\n",
    "x1 = res[:,0]\n",
    "x2 = res[:,1]\n",
    "\n",
    "plt.scatter(x1,x2, c=y)\n",
    "\n"
   ]
  },
  {
   "attachments": {},
   "cell_type": "markdown",
   "metadata": {},
   "source": [
    "***Calculer delta***\n"
   ]
  },
  {
   "cell_type": "code",
   "execution_count": 15,
   "metadata": {},
   "outputs": [
    {
     "name": "stdout",
     "output_type": "stream",
     "text": [
      "918\n"
     ]
    }
   ],
   "source": [
    "# formule vue au cours\n",
    "print(len(X))\n",
    "def compute_delta(c):\n",
    "    sigma = np.cov()\n",
    "    mu = np.mean(X)\n",
    "    pi = len(x)/len(X)\n",
    "    inv_x = np.linalg.inv(x)\n",
    "    inv_sigma = np.linalg.inv(x)\n",
    "    return np.dot(np.dot(x.T, inv_sigma),mu) - 1/2 * np.dot(np.dot(mu.T, inv_sigma), sigma) + log2(pi)"
   ]
  },
  {
   "attachments": {},
   "cell_type": "markdown",
   "metadata": {},
   "source": [
    "***Predire la classe d'un x***"
   ]
  },
  {
   "cell_type": "code",
   "execution_count": 16,
   "metadata": {},
   "outputs": [],
   "source": [
    "def predict(x, classes):\n",
    "    res = list()\n",
    "    for c in classes:\n",
    "        res.append(compute_delta(x, c))\n",
    "    a = max(res)\n",
    "    index = res.index(a)\n",
    "    return classes[index]\n"
   ]
  },
  {
   "cell_type": "code",
   "execution_count": 17,
   "metadata": {},
   "outputs": [
    {
     "name": "stdout",
     "output_type": "stream",
     "text": [
      "88.87733231757966\n",
      "0.1660389403885495\n",
      "0.9139326754667009\n",
      "342.400510724745\n",
      "11951.857429004036\n",
      "0.17877264679776536\n",
      "0.39857414764501786\n",
      "647.5224830430842\n",
      "0.24081075180011488\n",
      "1.136332702047171\n",
      "0.3681157769328985\n"
     ]
    },
    {
     "data": {
      "text/plain": [
       "<matplotlib.collections.PathCollection at 0x7f32e7f44a30>"
      ]
     },
     "execution_count": 17,
     "metadata": {},
     "output_type": "execute_result"
    },
    {
     "data": {
      "image/png": "[encoded data removed]",
      "text/plain": [
       "<Figure size 432x288 with 1 Axes>"
      ]
     },
     "metadata": {
      "needs_background": "light"
     },
     "output_type": "display_data"
    }
   ],
   "source": [
    "#print(X.T[3])\n",
    "for l in X.T:\n",
    "    print(np.var(l))\n",
    "\n",
    "\n",
    "plt.scatter(X.T[0], X.T[3], c=y)"
   ]
  },
  {
   "cell_type": "code",
   "execution_count": 18,
   "metadata": {},
   "outputs": [
    {
     "name": "stdout",
     "output_type": "stream",
     "text": [
      "(178, 13)\n"
     ]
    }
   ],
   "source": [
    "from sklearn.discriminant_analysis import LinearDiscriminantAnalysis\n",
    "from sklearn.datasets import load_wine\n",
    "from sklearn import datasets\n",
    "\n",
    "\n",
    "\n",
    "\n",
    "wine = datasets.load_wine()\n",
    "X = wine.data\n",
    "y = wine.target\n",
    "target_names = wine.target_names\n",
    "\n",
    "lda_model = LinearDiscriminantAnalysis()\n",
    "X_lda = lda_model.fit_transform(X, y)\n",
    "print(X.shape)\n"
   ]
  },
  {
   "cell_type": "code",
   "execution_count": 19,
   "metadata": {},
   "outputs": [],
   "source": [
    "mean_class = {}\n",
    "covariance_matrix = np.cov(X, rowvar=False)\n",
    "class_covariance = {}\n",
    "\n",
    "def fit(_X, _y):\n",
    "    # calcul des moyenne par class\n",
    "    \n",
    "    unique_classes = np.unique(_y)\n",
    "    for c in unique_classes:\n",
    "        class_samples = _X[_y == c]\n",
    "        mean_class[c] = np.mean(class_samples, axis=0)\n",
    "\n",
    "\n",
    "    for c in unique_classes:\n",
    "        class_samples = _X[_y == c]\n",
    "        class_covariance[c] = np.cov(class_samples, rowvar=False)\n",
    "\n"
   ]
  },
  {
   "cell_type": "code",
   "execution_count": 21,
   "metadata": {},
   "outputs": [
    {
     "name": "stdout",
     "output_type": "stream",
     "text": [
      "178\n",
      "1\n",
      "302.4495975231199\n",
      "305.0918625738564\n",
      "301.0820524717377\n"
     ]
    }
   ],
   "source": [
    "\n",
    "\n",
    "def predict(test_data):\n",
    "    # inverse of covariance matrix\n",
    "    inverse_covariance_matrix = np.linalg.inv(covariance_matrix)\n",
    "\n",
    "    deltas = list()\n",
    "    # compute delta_k(x) for each class\n",
    "    for m_class in mean_class:\n",
    "        mean_c = mean_class[m_class]\n",
    "        pi_k = len(X[y==m_class])/len(X)\n",
    "        delta = np.dot(np.dot(test_data.T,inverse_covariance_matrix), mean_c) - 1/2 * np.dot(np.dot(mean_c.T,inverse_covariance_matrix), mean_c) + log2(pi_k)\n",
    "        deltas.append(delta)\n",
    "        print(delta)\n",
    "\n",
    "    \n",
    "    \n",
    "\n",
    "fit(X,y)\n",
    "print(len(y))\n",
    "print(y[100])\n",
    "\n",
    "predict(np.array(X[100]))\n",
    "\n",
    "\n",
    "\n",
    "    "
   ]
  }
 ],
 "metadata": {
  "kernelspec": {
   "display_name": "Python 3",
   "language": "python",
   "name": "python3"
  },
  "language_info": {
   "codemirror_mode": {
    "name": "ipython",
    "version": 3
   },
   "file_extension": ".py",
   "mimetype": "text/x-python",
   "name": "python",
   "nbconvert_exporter": "python",
   "pygments_lexer": "ipython3",
   "version": "3.8.10"
  },
  "orig_nbformat": 4,
  "vscode": {
   "interpreter": {
    "hash": "916dbcbb3f70747c44a77c7bcd40155683ae19c65e1c03b4aa3499c5328201f1"
   }
  }
 },
 "nbformat": 4,
 "nbformat_minor": 2
}
