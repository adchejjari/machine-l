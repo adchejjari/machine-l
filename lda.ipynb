{
 "cells": [
  {
   "attachments": {},
   "cell_type": "markdown",
   "metadata": {},
   "source": [
    "\n"
   ]
  },
  {
   "attachments": {},
   "cell_type": "markdown",
   "metadata": {},
   "source": [
    "***Exercice 1 : Question 2***"
   ]
  },
  {
   "cell_type": "code",
   "execution_count": 621,
   "metadata": {},
   "outputs": [],
   "source": [
    "# \n",
    "import numpy as np\n",
    "import pandas as pd\n",
    "from dateutil.parser import ParserError\n",
    "from sklearn.preprocessing import LabelEncoder\n",
    "import matplotlib.pyplot as plt\n",
    "from math import log2\n",
    "from sklearn.metrics import confusion_matrix\n",
    "import seaborn as sns\n",
    "from sklearn.discriminant_analysis import LinearDiscriminantAnalysis\n",
    "from sklearn.model_selection import train_test_split\n",
    "from sklearn.datasets import load_wine\n",
    "from sklearn import datasets\n",
    "from sklearn.metrics import accuracy_score, precision_score, recall_score\n"
   ]
  },
  {
   "cell_type": "code",
   "execution_count": 622,
   "metadata": {},
   "outputs": [
    {
     "data": {
      "text/html": [
       "<div>\n",
       "<style scoped>\n",
       "    .dataframe tbody tr th:only-of-type {\n",
       "        vertical-align: middle;\n",
       "    }\n",
       "\n",
       "    .dataframe tbody tr th {\n",
       "        vertical-align: top;\n",
       "    }\n",
       "\n",
       "    .dataframe thead th {\n",
       "        text-align: right;\n",
       "    }\n",
       "</style>\n",
       "<table border=\"1\" class=\"dataframe\">\n",
       "  <thead>\n",
       "    <tr style=\"text-align: right;\">\n",
       "      <th></th>\n",
       "      <th>Age</th>\n",
       "      <th>Sex</th>\n",
       "      <th>ChestPainType</th>\n",
       "      <th>RestingBP</th>\n",
       "      <th>Cholesterol</th>\n",
       "      <th>FastingBS</th>\n",
       "      <th>RestingECG</th>\n",
       "      <th>MaxHR</th>\n",
       "      <th>ExerciseAngina</th>\n",
       "      <th>Oldpeak</th>\n",
       "      <th>ST_Slope</th>\n",
       "      <th>HeartDisease</th>\n",
       "    </tr>\n",
       "  </thead>\n",
       "  <tbody>\n",
       "    <tr>\n",
       "      <th>0</th>\n",
       "      <td>40</td>\n",
       "      <td>M</td>\n",
       "      <td>ATA</td>\n",
       "      <td>140</td>\n",
       "      <td>289</td>\n",
       "      <td>0</td>\n",
       "      <td>Normal</td>\n",
       "      <td>172</td>\n",
       "      <td>N</td>\n",
       "      <td>0.0</td>\n",
       "      <td>Up</td>\n",
       "      <td>0</td>\n",
       "    </tr>\n",
       "    <tr>\n",
       "      <th>1</th>\n",
       "      <td>49</td>\n",
       "      <td>F</td>\n",
       "      <td>NAP</td>\n",
       "      <td>160</td>\n",
       "      <td>180</td>\n",
       "      <td>0</td>\n",
       "      <td>Normal</td>\n",
       "      <td>156</td>\n",
       "      <td>N</td>\n",
       "      <td>1.0</td>\n",
       "      <td>Flat</td>\n",
       "      <td>1</td>\n",
       "    </tr>\n",
       "    <tr>\n",
       "      <th>2</th>\n",
       "      <td>37</td>\n",
       "      <td>M</td>\n",
       "      <td>ATA</td>\n",
       "      <td>130</td>\n",
       "      <td>283</td>\n",
       "      <td>0</td>\n",
       "      <td>ST</td>\n",
       "      <td>98</td>\n",
       "      <td>N</td>\n",
       "      <td>0.0</td>\n",
       "      <td>Up</td>\n",
       "      <td>0</td>\n",
       "    </tr>\n",
       "    <tr>\n",
       "      <th>3</th>\n",
       "      <td>48</td>\n",
       "      <td>F</td>\n",
       "      <td>ASY</td>\n",
       "      <td>138</td>\n",
       "      <td>214</td>\n",
       "      <td>0</td>\n",
       "      <td>Normal</td>\n",
       "      <td>108</td>\n",
       "      <td>Y</td>\n",
       "      <td>1.5</td>\n",
       "      <td>Flat</td>\n",
       "      <td>1</td>\n",
       "    </tr>\n",
       "    <tr>\n",
       "      <th>4</th>\n",
       "      <td>54</td>\n",
       "      <td>M</td>\n",
       "      <td>NAP</td>\n",
       "      <td>150</td>\n",
       "      <td>195</td>\n",
       "      <td>0</td>\n",
       "      <td>Normal</td>\n",
       "      <td>122</td>\n",
       "      <td>N</td>\n",
       "      <td>0.0</td>\n",
       "      <td>Up</td>\n",
       "      <td>0</td>\n",
       "    </tr>\n",
       "  </tbody>\n",
       "</table>\n",
       "</div>"
      ],
      "text/plain": [
       "   Age Sex ChestPainType  RestingBP  Cholesterol  FastingBS RestingECG  MaxHR  \\\n",
       "0   40   M           ATA        140          289          0     Normal    172   \n",
       "1   49   F           NAP        160          180          0     Normal    156   \n",
       "2   37   M           ATA        130          283          0         ST     98   \n",
       "3   48   F           ASY        138          214          0     Normal    108   \n",
       "4   54   M           NAP        150          195          0     Normal    122   \n",
       "\n",
       "  ExerciseAngina  Oldpeak ST_Slope  HeartDisease  \n",
       "0              N      0.0       Up             0  \n",
       "1              N      1.0     Flat             1  \n",
       "2              N      0.0       Up             0  \n",
       "3              Y      1.5     Flat             1  \n",
       "4              N      0.0       Up             0  "
      ]
     },
     "execution_count": 622,
     "metadata": {},
     "output_type": "execute_result"
    }
   ],
   "source": [
    "# chargement du dataset avec pandas\n",
    "data = pd.read_csv('heart.csv')\n",
    "data.head()"
   ]
  },
  {
   "cell_type": "code",
   "execution_count": 624,
   "metadata": {},
   "outputs": [
    {
     "name": "stdout",
     "output_type": "stream",
     "text": [
      "<class 'pandas.core.frame.DataFrame'>\n",
      "RangeIndex: 918 entries, 0 to 917\n",
      "Data columns (total 12 columns):\n",
      " #   Column          Non-Null Count  Dtype  \n",
      "---  ------          --------------  -----  \n",
      " 0   Age             918 non-null    int64  \n",
      " 1   Sex             918 non-null    object \n",
      " 2   ChestPainType   918 non-null    object \n",
      " 3   RestingBP       918 non-null    int64  \n",
      " 4   Cholesterol     918 non-null    int64  \n",
      " 5   FastingBS       918 non-null    int64  \n",
      " 6   RestingECG      918 non-null    object \n",
      " 7   MaxHR           918 non-null    int64  \n",
      " 8   ExerciseAngina  918 non-null    object \n",
      " 9   Oldpeak         918 non-null    float64\n",
      " 10  ST_Slope        918 non-null    object \n",
      " 11  HeartDisease    918 non-null    int64  \n",
      "dtypes: float64(1), int64(6), object(5)\n",
      "memory usage: 86.2+ KB\n"
     ]
    }
   ],
   "source": [
    "data.info()"
   ]
  },
  {
   "cell_type": "code",
   "execution_count": 625,
   "metadata": {},
   "outputs": [],
   "source": [
    "# Fonction qui permet de transformer les données non réelles en données réelles (object en int ou float)\n",
    "def transform_data(data):\n",
    "    label_encoder = LabelEncoder()\n",
    "    list_features = list(data.columns)\n",
    "    categorical = []\n",
    "    numerical = []\n",
    "\n",
    "    for i in list_features:\n",
    "        if len(data[i].unique())>5: \n",
    "                numerical.append(i)\n",
    "        else:\n",
    "                categorical.append(i)\n",
    "\n",
    "    for i in categorical :\n",
    "        data[i]=label_encoder.fit_transform(data[i])"
   ]
  },
  {
   "cell_type": "code",
   "execution_count": 626,
   "metadata": {},
   "outputs": [
    {
     "name": "stdout",
     "output_type": "stream",
     "text": [
      "<class 'pandas.core.frame.DataFrame'>\n",
      "RangeIndex: 918 entries, 0 to 917\n",
      "Data columns (total 12 columns):\n",
      " #   Column          Non-Null Count  Dtype  \n",
      "---  ------          --------------  -----  \n",
      " 0   Age             918 non-null    int64  \n",
      " 1   Sex             918 non-null    int64  \n",
      " 2   ChestPainType   918 non-null    int64  \n",
      " 3   RestingBP       918 non-null    int64  \n",
      " 4   Cholesterol     918 non-null    int64  \n",
      " 5   FastingBS       918 non-null    int64  \n",
      " 6   RestingECG      918 non-null    int64  \n",
      " 7   MaxHR           918 non-null    int64  \n",
      " 8   ExerciseAngina  918 non-null    int64  \n",
      " 9   Oldpeak         918 non-null    float64\n",
      " 10  ST_Slope        918 non-null    int64  \n",
      " 11  HeartDisease    918 non-null    int64  \n",
      "dtypes: float64(1), int64(11)\n",
      "memory usage: 86.2 KB\n"
     ]
    }
   ],
   "source": [
    "transform_data(data)\n",
    "data.info()\n"
   ]
  },
  {
   "cell_type": "code",
   "execution_count": 627,
   "metadata": {},
   "outputs": [],
   "source": [
    "# Fonction qui renvoie les attributs et les target\n",
    "def get_data(_data, target_column):\n",
    "    y = np.array(_data[target_column])\n",
    "    X = list()\n",
    "    for feature in list(_data.columns):\n",
    "        X.append(list(_data[feature]))\n",
    "    X  = np.array(X[:-1]).T\n",
    "    return X, y\n"
   ]
  },
  {
   "cell_type": "code",
   "execution_count": 633,
   "metadata": {},
   "outputs": [],
   "source": [
    "class MyLDA:\n",
    "    def __init__(self):\n",
    "        self.X = None\n",
    "        self.y = None\n",
    "        self.mean_class = {}\n",
    "        self.class_covariance = {}\n",
    "        self.covariance_matrix = None\n",
    "\n",
    "    def fit(self, _X, _y):\n",
    "        # calcule la matrice de covariance pour l'ensemble de données fournie avec les entrées X et y, \n",
    "        # ainsi que les moyennes de classe pour chaque classe unique dans y.\n",
    "\n",
    "        self.X = _X\n",
    "        self.y = _y\n",
    "\n",
    "        self.covariance_matrix = np.cov(_X, rowvar=False)\n",
    "        unique_classes = np.unique(self.y)\n",
    "\n",
    "        for c in unique_classes:\n",
    "            class_samples = _X[_y == c]\n",
    "            self.mean_class[c] = np.mean(class_samples, axis=0)\n",
    "\n",
    "        for c in unique_classes:\n",
    "            class_samples = _X[_y == c]\n",
    "            self.class_covariance[c] = np.cov(class_samples, rowvar=False)\n",
    "\n",
    "\n",
    "    def predict(self, test_data):\n",
    "        # renvoie les prédictions de classe pour chaque échantillon en utilisant le modèle de LDA formé avec \"fit\"\n",
    "        inverse_covariance_matrix = np.linalg.inv(self.covariance_matrix)\n",
    "        res = list()\n",
    "        \n",
    "        for line in test_data:\n",
    "            deltas = list()\n",
    "            classes = list()\n",
    "            for m_class in self.mean_class:\n",
    "                mean_c = self.mean_class[m_class]\n",
    "                pi_k = len(self.X[self.y==m_class])/len(self.X)\n",
    "                # Formule de calcul de probabilité vue au cours\n",
    "                delta = np.dot(np.dot(line.T,inverse_covariance_matrix), mean_c) - 1/2 * np.dot(np.dot(mean_c.T,inverse_covariance_matrix), mean_c) + log2(pi_k)\n",
    "                deltas.append(delta)\n",
    "                classes.append(m_class)\n",
    "            index = deltas.index(max(deltas))\n",
    "            res.append(classes[index])\n",
    "\n",
    "        return np.array(res)\n"
   ]
  },
  {
   "cell_type": "code",
   "execution_count": 634,
   "metadata": {},
   "outputs": [],
   "source": [
    "\n",
    "def plot_confusion_matrix(y_test, prediction, title=\"Confusion Matrix LDA\"):\n",
    "    # plot une matrice de confusion\n",
    "    c_matrix = confusion_matrix(y_test, prediction)\n",
    "    cm_df = pd.DataFrame(c_matrix)\n",
    "    plt.figure(figsize=(8,6))\n",
    "    \n",
    "    sns.heatmap(cm_df, annot=True, fmt='d', cmap=plt.cm.Greens)\n",
    "\n",
    "    plt.title(title)\n",
    "    plt.ylabel('True label')\n",
    "    plt.xlabel('Predicted label')\n",
    "    plt.show()\n"
   ]
  },
  {
   "cell_type": "code",
   "execution_count": 635,
   "metadata": {},
   "outputs": [],
   "source": [
    "\n",
    "def illustrate_result(X, y):\n",
    "    # Illustration de resultat en calculant Les metriques Accuracy, Precision & Recall\n",
    "    X_train, X_test, y_train, y_test = train_test_split(X, y, test_size=0.35, random_state=42) \n",
    "\n",
    "    model = MyLDA()\n",
    "    model.fit(X_train,y_train)\n",
    "    res = model.predict(X_test)\n",
    "\n",
    "    print('The accuracy: ',accuracy_score(y_test, res))\n",
    "    print('The precision: ',precision_score(y_test, res, average='macro'))\n",
    "    print('The recall: ',recall_score(y_test, res, average='macro'))\n",
    "\n",
    "    plot_confusion_matrix(y_test, res)\n",
    "    "
   ]
  },
  {
   "cell_type": "code",
   "execution_count": 636,
   "metadata": {},
   "outputs": [
    {
     "name": "stdout",
     "output_type": "stream",
     "text": [
      "The accuracy:  0.8633540372670807\n",
      "The precision:  0.8576271186440678\n",
      "The recall:  0.8668318612365613\n"
     ]
    },
    {
     "data": {
      "image/png": "[encoded data removed]",
      "text/plain": [
       "<Figure size 576x432 with 2 Axes>"
      ]
     },
     "metadata": {
      "needs_background": "light"
     },
     "output_type": "display_data"
    }
   ],
   "source": [
    "# on teste notre modèle sur le data set de heart.csv\n",
    "\n",
    "X, y = get_data(data, 'HeartDisease')\n",
    "\n",
    "illustrate_result(X,y)"
   ]
  },
  {
   "cell_type": "code",
   "execution_count": 637,
   "metadata": {},
   "outputs": [
    {
     "name": "stdout",
     "output_type": "stream",
     "text": [
      "The accuracy:  1.0\n",
      "The precision:  1.0\n",
      "The recall:  1.0\n"
     ]
    },
    {
     "data": {
      "image/png": "[encoded data removed]",
      "text/plain": [
       "<Figure size 576x432 with 2 Axes>"
      ]
     },
     "metadata": {
      "needs_background": "light"
     },
     "output_type": "display_data"
    }
   ],
   "source": [
    "# Illustrons notre modèle sur le dataset wine de sklearn.datasets\n",
    "\n",
    "wine = datasets.load_wine()\n",
    "X = wine.data\n",
    "y = wine.target\n",
    "\n",
    "illustrate_result(X,y)"
   ]
  },
  {
   "cell_type": "code",
   "execution_count": 638,
   "metadata": {},
   "outputs": [
    {
     "name": "stdout",
     "output_type": "stream",
     "text": [
      "The accuracy:  0.92\n",
      "The precision:  0.9387805177278861\n",
      "The recall:  0.8904902281908504\n"
     ]
    },
    {
     "data": {
      "image/png": "[encoded data removed]",
      "text/plain": [
       "<Figure size 576x432 with 2 Axes>"
      ]
     },
     "metadata": {
      "needs_background": "light"
     },
     "output_type": "display_data"
    }
   ],
   "source": [
    " # Illustrons ce que nous avons obtenu avec le dataset breast_cancer\n",
    "\n",
    "b_cancer = datasets.load_breast_cancer()\n",
    "X = b_cancer.data\n",
    "y = b_cancer.target\n",
    "\n",
    "illustrate_result(X,y)\n"
   ]
  }
 ],
 "metadata": {
  "kernelspec": {
   "display_name": "Python 3",
   "language": "python",
   "name": "python3"
  },
  "language_info": {
   "codemirror_mode": {
    "name": "ipython",
    "version": 3
   },
   "file_extension": ".py",
   "mimetype": "text/x-python",
   "name": "python",
   "nbconvert_exporter": "python",
   "pygments_lexer": "ipython3",
   "version": "3.8.10"
  },
  "orig_nbformat": 4,
  "vscode": {
   "interpreter": {
    "hash": "916dbcbb3f70747c44a77c7bcd40155683ae19c65e1c03b4aa3499c5328201f1"
   }
  }
 },
 "nbformat": 4,
 "nbformat_minor": 2
}
