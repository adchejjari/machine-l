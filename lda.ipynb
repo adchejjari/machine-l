{
 "cells": [
  {
   "attachments": {},
   "cell_type": "markdown",
   "metadata": {},
   "source": [
    "\n"
   ]
  },
  {
   "cell_type": "code",
   "execution_count": 580,
   "metadata": {},
   "outputs": [],
   "source": [
    "# required libraries\n",
    "import numpy as np\n",
    "import pandas as pd\n",
    "from dateutil.parser import ParserError\n",
    "from sklearn.preprocessing import LabelEncoder\n",
    "import matplotlib.pyplot as plt\n",
    "from math import log2\n",
    "from sklearn.metrics import confusion_matrix\n",
    "import seaborn as sns\n",
    "from sklearn.discriminant_analysis import LinearDiscriminantAnalysis\n",
    "from sklearn.model_selection import train_test_split\n",
    "from sklearn.datasets import load_wine\n",
    "from sklearn import datasets\n",
    "from sklearn.metrics import accuracy_score, precision_score, recall_score\n"
   ]
  },
  {
   "cell_type": "code",
   "execution_count": 581,
   "metadata": {},
   "outputs": [
    {
     "data": {
      "text/html": [
       "<div>\n",
       "<style scoped>\n",
       "    .dataframe tbody tr th:only-of-type {\n",
       "        vertical-align: middle;\n",
       "    }\n",
       "\n",
       "    .dataframe tbody tr th {\n",
       "        vertical-align: top;\n",
       "    }\n",
       "\n",
       "    .dataframe thead th {\n",
       "        text-align: right;\n",
       "    }\n",
       "</style>\n",
       "<table border=\"1\" class=\"dataframe\">\n",
       "  <thead>\n",
       "    <tr style=\"text-align: right;\">\n",
       "      <th></th>\n",
       "      <th>Age</th>\n",
       "      <th>Sex</th>\n",
       "      <th>ChestPainType</th>\n",
       "      <th>RestingBP</th>\n",
       "      <th>Cholesterol</th>\n",
       "      <th>FastingBS</th>\n",
       "      <th>RestingECG</th>\n",
       "      <th>MaxHR</th>\n",
       "      <th>ExerciseAngina</th>\n",
       "      <th>Oldpeak</th>\n",
       "      <th>ST_Slope</th>\n",
       "      <th>HeartDisease</th>\n",
       "    </tr>\n",
       "  </thead>\n",
       "  <tbody>\n",
       "    <tr>\n",
       "      <th>0</th>\n",
       "      <td>40</td>\n",
       "      <td>M</td>\n",
       "      <td>ATA</td>\n",
       "      <td>140</td>\n",
       "      <td>289</td>\n",
       "      <td>0</td>\n",
       "      <td>Normal</td>\n",
       "      <td>172</td>\n",
       "      <td>N</td>\n",
       "      <td>0.0</td>\n",
       "      <td>Up</td>\n",
       "      <td>0</td>\n",
       "    </tr>\n",
       "    <tr>\n",
       "      <th>1</th>\n",
       "      <td>49</td>\n",
       "      <td>F</td>\n",
       "      <td>NAP</td>\n",
       "      <td>160</td>\n",
       "      <td>180</td>\n",
       "      <td>0</td>\n",
       "      <td>Normal</td>\n",
       "      <td>156</td>\n",
       "      <td>N</td>\n",
       "      <td>1.0</td>\n",
       "      <td>Flat</td>\n",
       "      <td>1</td>\n",
       "    </tr>\n",
       "    <tr>\n",
       "      <th>2</th>\n",
       "      <td>37</td>\n",
       "      <td>M</td>\n",
       "      <td>ATA</td>\n",
       "      <td>130</td>\n",
       "      <td>283</td>\n",
       "      <td>0</td>\n",
       "      <td>ST</td>\n",
       "      <td>98</td>\n",
       "      <td>N</td>\n",
       "      <td>0.0</td>\n",
       "      <td>Up</td>\n",
       "      <td>0</td>\n",
       "    </tr>\n",
       "    <tr>\n",
       "      <th>3</th>\n",
       "      <td>48</td>\n",
       "      <td>F</td>\n",
       "      <td>ASY</td>\n",
       "      <td>138</td>\n",
       "      <td>214</td>\n",
       "      <td>0</td>\n",
       "      <td>Normal</td>\n",
       "      <td>108</td>\n",
       "      <td>Y</td>\n",
       "      <td>1.5</td>\n",
       "      <td>Flat</td>\n",
       "      <td>1</td>\n",
       "    </tr>\n",
       "    <tr>\n",
       "      <th>4</th>\n",
       "      <td>54</td>\n",
       "      <td>M</td>\n",
       "      <td>NAP</td>\n",
       "      <td>150</td>\n",
       "      <td>195</td>\n",
       "      <td>0</td>\n",
       "      <td>Normal</td>\n",
       "      <td>122</td>\n",
       "      <td>N</td>\n",
       "      <td>0.0</td>\n",
       "      <td>Up</td>\n",
       "      <td>0</td>\n",
       "    </tr>\n",
       "  </tbody>\n",
       "</table>\n",
       "</div>"
      ],
      "text/plain": [
       "   Age Sex ChestPainType  RestingBP  Cholesterol  FastingBS RestingECG  MaxHR  \\\n",
       "0   40   M           ATA        140          289          0     Normal    172   \n",
       "1   49   F           NAP        160          180          0     Normal    156   \n",
       "2   37   M           ATA        130          283          0         ST     98   \n",
       "3   48   F           ASY        138          214          0     Normal    108   \n",
       "4   54   M           NAP        150          195          0     Normal    122   \n",
       "\n",
       "  ExerciseAngina  Oldpeak ST_Slope  HeartDisease  \n",
       "0              N      0.0       Up             0  \n",
       "1              N      1.0     Flat             1  \n",
       "2              N      0.0       Up             0  \n",
       "3              Y      1.5     Flat             1  \n",
       "4              N      0.0       Up             0  "
      ]
     },
     "execution_count": 581,
     "metadata": {},
     "output_type": "execute_result"
    }
   ],
   "source": [
    "# chargement du dataset avec pandas\n",
    "data = pd.read_csv('heart.csv')\n",
    "data.head()"
   ]
  },
  {
   "cell_type": "code",
   "execution_count": 582,
   "metadata": {},
   "outputs": [
    {
     "data": {
      "text/plain": [
       "(918, 12)"
      ]
     },
     "execution_count": 582,
     "metadata": {},
     "output_type": "execute_result"
    }
   ],
   "source": [
    "data.shape"
   ]
  },
  {
   "cell_type": "code",
   "execution_count": 583,
   "metadata": {},
   "outputs": [
    {
     "name": "stdout",
     "output_type": "stream",
     "text": [
      "<class 'pandas.core.frame.DataFrame'>\n",
      "RangeIndex: 918 entries, 0 to 917\n",
      "Data columns (total 12 columns):\n",
      " #   Column          Non-Null Count  Dtype  \n",
      "---  ------          --------------  -----  \n",
      " 0   Age             918 non-null    int64  \n",
      " 1   Sex             918 non-null    object \n",
      " 2   ChestPainType   918 non-null    object \n",
      " 3   RestingBP       918 non-null    int64  \n",
      " 4   Cholesterol     918 non-null    int64  \n",
      " 5   FastingBS       918 non-null    int64  \n",
      " 6   RestingECG      918 non-null    object \n",
      " 7   MaxHR           918 non-null    int64  \n",
      " 8   ExerciseAngina  918 non-null    object \n",
      " 9   Oldpeak         918 non-null    float64\n",
      " 10  ST_Slope        918 non-null    object \n",
      " 11  HeartDisease    918 non-null    int64  \n",
      "dtypes: float64(1), int64(6), object(5)\n",
      "memory usage: 86.2+ KB\n"
     ]
    }
   ],
   "source": [
    "data.info()"
   ]
  },
  {
   "cell_type": "code",
   "execution_count": 584,
   "metadata": {},
   "outputs": [],
   "source": [
    "\n",
    "def transform_data(data):\n",
    "    label_encoder = LabelEncoder()\n",
    "    list_features = list(data.columns)\n",
    "    categorical = []\n",
    "    numerical = []\n",
    "\n",
    "    for i in list_features:\n",
    "        if len(data[i].unique())>5: \n",
    "                numerical.append(i)\n",
    "        else:\n",
    "                categorical.append(i)\n",
    "\n",
    "    for i in categorical :\n",
    "        data[i]=label_encoder.fit_transform(data[i])"
   ]
  },
  {
   "cell_type": "markdown",
   "metadata": {},
   "source": []
  },
  {
   "cell_type": "code",
   "execution_count": 585,
   "metadata": {},
   "outputs": [
    {
     "name": "stdout",
     "output_type": "stream",
     "text": [
      "<class 'pandas.core.frame.DataFrame'>\n",
      "RangeIndex: 918 entries, 0 to 917\n",
      "Data columns (total 12 columns):\n",
      " #   Column          Non-Null Count  Dtype  \n",
      "---  ------          --------------  -----  \n",
      " 0   Age             918 non-null    int64  \n",
      " 1   Sex             918 non-null    int64  \n",
      " 2   ChestPainType   918 non-null    int64  \n",
      " 3   RestingBP       918 non-null    int64  \n",
      " 4   Cholesterol     918 non-null    int64  \n",
      " 5   FastingBS       918 non-null    int64  \n",
      " 6   RestingECG      918 non-null    int64  \n",
      " 7   MaxHR           918 non-null    int64  \n",
      " 8   ExerciseAngina  918 non-null    int64  \n",
      " 9   Oldpeak         918 non-null    float64\n",
      " 10  ST_Slope        918 non-null    int64  \n",
      " 11  HeartDisease    918 non-null    int64  \n",
      "dtypes: float64(1), int64(11)\n",
      "memory usage: 86.2 KB\n"
     ]
    }
   ],
   "source": [
    "transform_data(data)\n",
    "data.info()\n"
   ]
  },
  {
   "cell_type": "code",
   "execution_count": 586,
   "metadata": {},
   "outputs": [],
   "source": [
    "# Target\n",
    "def get_data(_data, target_column):\n",
    "    y = np.array(_data[target_column])\n",
    "    X = list()\n",
    "    for feature in list(_data.columns):\n",
    "        X.append(list(_data[feature]))\n",
    "    X  = np.array(X[:-1]).T\n",
    "    return X, y\n"
   ]
  },
  {
   "cell_type": "code",
   "execution_count": null,
   "metadata": {},
   "outputs": [],
   "source": []
  },
  {
   "attachments": {},
   "cell_type": "markdown",
   "metadata": {},
   "source": [
    "***On commence par réduire le nombre de dimention de 11 à 2 afin de pouvoir afficher les données***\n"
   ]
  },
  {
   "cell_type": "code",
   "execution_count": 587,
   "metadata": {},
   "outputs": [
    {
     "name": "stdout",
     "output_type": "stream",
     "text": [
      "le nombre de features est :  30\n",
      "le nombre de classes est :  2\n"
     ]
    }
   ],
   "source": [
    "number_of_features = X.shape[1]\n",
    "\n",
    "classes = np.unique(y)\n",
    "\n",
    "number_of_classes = len(classes)\n",
    "\n",
    "print(f\"le nombre de features est : \", number_of_features)\n",
    "print(f\"le nombre de classes est : \", number_of_classes)\n",
    "\n"
   ]
  },
  {
   "cell_type": "code",
   "execution_count": 588,
   "metadata": {},
   "outputs": [],
   "source": [
    "\n",
    "\n",
    "\n",
    "#Calcul de la moyenne des features\n",
    "means = np.mean(X, 0)\n"
   ]
  },
  {
   "cell_type": "code",
   "execution_count": 589,
   "metadata": {},
   "outputs": [],
   "source": [
    "# calcul des scatter matrix\n",
    "\n",
    "\n",
    "S_w_matrix = np.zeros((number_of_features, number_of_features)) # initialize Within class scatter matrix:\n",
    "\n",
    "S_b_matrix = np.zeros((number_of_features, number_of_features)) # initialize Between classes scatter matrix:\n",
    "\n",
    "class_means = []\n",
    "unique_classes = np.unique(y)\n",
    "for c in unique_classes:\n",
    "    class_mean = np.mean(X[y == c], axis=0)\n",
    "    class_means.append(class_mean)\n"
   ]
  },
  {
   "cell_type": "code",
   "execution_count": 590,
   "metadata": {},
   "outputs": [],
   "source": [
    "for c in unique_classes:\n",
    "    # for each class calculate the \n",
    "\n",
    "    X_c = X[y==c]\n",
    "    mean_c = np.mean(X_c, axis=0)\n",
    "\n",
    "    S_w_matrix += (X_c - mean_c).T.dot((X_c - mean_c))\n",
    "\n",
    "    n_c = X_c.shape[0]\n",
    "    mean_diff = (mean_c - means).reshape(number_of_features, 1)\n",
    "    S_b_matrix += n_c * (mean_diff).dot(mean_diff.T)"
   ]
  },
  {
   "cell_type": "code",
   "execution_count": 591,
   "metadata": {},
   "outputs": [
    {
     "name": "stdout",
     "output_type": "stream",
     "text": [
      "[ 3.43114417e+00+0.00000000e+00j  9.02465456e-13+0.00000000e+00j\n",
      " -1.94630772e-13+0.00000000e+00j  5.70953565e-14+2.82926294e-14j\n",
      "  5.70953565e-14-2.82926294e-14j -5.13561530e-14+2.05005045e-14j\n",
      " -5.13561530e-14-2.05005045e-14j -5.39258651e-15+4.02735264e-14j\n",
      " -5.39258651e-15-4.02735264e-14j  1.93814075e-14+0.00000000e+00j\n",
      " -1.29081149e-14+0.00000000e+00j  1.00075106e-14+2.80812044e-15j\n",
      "  1.00075106e-14-2.80812044e-15j -5.81110392e-16+7.28724954e-15j\n",
      " -5.81110392e-16-7.28724954e-15j -6.88780567e-15+0.00000000e+00j\n",
      "  6.37960845e-15+0.00000000e+00j  1.01878572e-16+3.05383220e-15j\n",
      "  1.01878572e-16-3.05383220e-15j  2.57508366e-15+0.00000000e+00j\n",
      " -2.32578446e-15+0.00000000e+00j  9.47304416e-16+1.59664977e-15j\n",
      "  9.47304416e-16-1.59664977e-15j -1.29189065e-15+0.00000000e+00j\n",
      "  1.02120487e-15+0.00000000e+00j -7.10169313e-16+0.00000000e+00j\n",
      " -1.71297329e-16+0.00000000e+00j -3.38555336e-18+0.00000000e+00j\n",
      "  1.52054739e-16+1.55598183e-17j  1.52054739e-16-1.55598183e-17j]\n"
     ]
    }
   ],
   "source": [
    "\n",
    "\n",
    "\n",
    "S = np.linalg.inv(S_w_matrix).dot(S_b_matrix)\n",
    "\n",
    "eigen_values, eigen_vectors = np.linalg.eig(S)\n",
    "\n",
    "\n",
    "# eigenvectors = eigen_vectors.T\n",
    "# idxs = np.argsort(abs(eigen_values))[::-1]\n",
    "# eigenvalues = eigen_values[idxs]\n",
    "# eigenvectors = eigenvectors[idxs]\n",
    "\n",
    "# store first 2 eigenvectors in case of (we assume that we want to reduce 3D to 2D)\n",
    "# print(eigenvectors)\n",
    "lda = eigen_vectors[:,0]\n",
    "print(eigen_values)\n",
    "\n",
    "\n",
    "\n",
    "# Project the data\n",
    "res = np.dot(X, lda).reshape(-1,1)\n",
    "\n",
    "\n",
    "x1 = res[:,0]\n",
    "# x2 = res[:,1]\n",
    "\n",
    "# plt.scatter(x1,y, c=y)\n",
    "\n",
    "# lda_model = LinearDiscriminantAnalysis()\n",
    "# lda_model.fit(X, y)\n",
    "# X_lda = lda_model.transform(X)\n",
    "\n",
    "# plt.scatter(X_lda,y, c=y)\n",
    "\n",
    "\n",
    "\n",
    "\n",
    "\n"
   ]
  },
  {
   "cell_type": "code",
   "execution_count": 592,
   "metadata": {},
   "outputs": [],
   "source": [
    "class MyLDA:\n",
    "    def __init__(self):\n",
    "        self.X = None\n",
    "        self.y = None\n",
    "        self.mean_class = {}\n",
    "        self.class_covariance = {}\n",
    "        self.covariance_matrix = None\n",
    "\n",
    "    def fit(self, _X, _y):\n",
    "        self.X = _X\n",
    "        self.y = _y\n",
    "\n",
    "        self.covariance_matrix = np.cov(_X, rowvar=False)\n",
    "        unique_classes = np.unique(self.y)\n",
    "\n",
    "        for c in unique_classes:\n",
    "            class_samples = _X[_y == c]\n",
    "            self.mean_class[c] = np.mean(class_samples, axis=0)\n",
    "\n",
    "        for c in unique_classes:\n",
    "            class_samples = _X[_y == c]\n",
    "            self.class_covariance[c] = np.cov(class_samples, rowvar=False)\n",
    "\n",
    "\n",
    "    def predict(self, test_data):\n",
    "        inverse_covariance_matrix = np.linalg.inv(self.covariance_matrix)\n",
    "        res = list()\n",
    "\n",
    "        # compute delta_k(x) for each row in the \n",
    "        for line in test_data:\n",
    "            deltas = list()\n",
    "            classes = list()\n",
    "            for m_class in self.mean_class:\n",
    "                mean_c = self.mean_class[m_class]\n",
    "                pi_k = len(self.X[self.y==m_class])/len(self.X)\n",
    "                delta = np.dot(np.dot(line.T,inverse_covariance_matrix), mean_c) - 1/2 * np.dot(np.dot(mean_c.T,inverse_covariance_matrix), mean_c) + log2(pi_k)\n",
    "                deltas.append(delta)\n",
    "                classes.append(m_class)\n",
    "            index = deltas.index(max(deltas))\n",
    "            res.append(classes[index])\n",
    "\n",
    "        return np.array(res)\n"
   ]
  },
  {
   "cell_type": "code",
   "execution_count": 593,
   "metadata": {},
   "outputs": [],
   "source": [
    "\n",
    "def plot_confusion_matrix(y_test, prediction, title=\"Confusion Matrix\"):\n",
    "    c_matrix = confusion_matrix(y_test, prediction)\n",
    "    cm_df = pd.DataFrame(c_matrix)\n",
    "    plt.figure(figsize=(8,6))\n",
    "    \n",
    "    sns.heatmap(cm_df, annot=True, fmt='d', cmap=plt.cm.Greens)\n",
    "\n",
    "    plt.title(title)\n",
    "    plt.ylabel('True label')\n",
    "    plt.xlabel('Predicted label')\n",
    "    plt.show()\n"
   ]
  },
  {
   "cell_type": "code",
   "execution_count": 594,
   "metadata": {},
   "outputs": [],
   "source": [
    "\n",
    "def illustrate_result(X, y):\n",
    "    X_train, X_test, y_train, y_test = train_test_split(X, y, test_size=0.50, random_state=42) \n",
    "\n",
    "    model = MyLDA()\n",
    "    model.fit(X_train,y_train)\n",
    "    res = model.predict(X_test)\n",
    "\n",
    "    print('The accuracy: ',accuracy_score(y_test, res))\n",
    "    print('The precision: ',precision_score(y_test, res, average='macro'))\n",
    "    print('The recall: ',recall_score(y_test, res, average='macro'))\n",
    "\n",
    "    plot_confusion_matrix(y_test, res)\n",
    "    "
   ]
  },
  {
   "cell_type": "code",
   "execution_count": 595,
   "metadata": {},
   "outputs": [
    {
     "name": "stdout",
     "output_type": "stream",
     "text": [
      "The accuracy:  0.8627450980392157\n",
      "The precision:  0.8590404213901294\n",
      "The recall:  0.8659404785061272\n"
     ]
    },
    {
     "data": {
      "image/png": "[encoded data removed]",
      "text/plain": [
       "<Figure size 576x432 with 2 Axes>"
      ]
     },
     "metadata": {
      "needs_background": "light"
     },
     "output_type": "display_data"
    }
   ],
   "source": [
    "# on teste notre modèle sur le data set de heart.csv\n",
    "\n",
    "X, y = get_data(data, 'HeartDisease')\n",
    "\n",
    "illustrate_result(X,y)"
   ]
  },
  {
   "cell_type": "code",
   "execution_count": 596,
   "metadata": {},
   "outputs": [
    {
     "name": "stdout",
     "output_type": "stream",
     "text": [
      "The accuracy:  0.9662921348314607\n",
      "The precision:  0.9729729729729729\n",
      "The recall:  0.9696969696969697\n"
     ]
    },
    {
     "data": {
      "image/png": "[encoded data removed]",
      "text/plain": [
       "<Figure size 576x432 with 2 Axes>"
      ]
     },
     "metadata": {
      "needs_background": "light"
     },
     "output_type": "display_data"
    }
   ],
   "source": [
    "# Illustrons notre modèle sur le dataset wine de sklearn.datasets\n",
    "\n",
    "wine = datasets.load_wine()\n",
    "X = wine.data\n",
    "y = wine.target\n",
    "\n",
    "illustrate_result(X,y)"
   ]
  },
  {
   "cell_type": "code",
   "execution_count": 598,
   "metadata": {},
   "outputs": [
    {
     "name": "stdout",
     "output_type": "stream",
     "text": [
      "(569, 30)\n",
      "The accuracy:  0.9438596491228071\n",
      "The precision:  0.9567341862117982\n",
      "The recall:  0.9207955909636583\n"
     ]
    },
    {
     "data": {
      "image/png": "[encoded data removed]",
      "text/plain": [
       "<Figure size 576x432 with 2 Axes>"
      ]
     },
     "metadata": {
      "needs_background": "light"
     },
     "output_type": "display_data"
    }
   ],
   "source": [
    " # Illustrons ce que nous avons obtenu avec le dataset breast_cancer\n",
    "\n",
    "cancer = datasets.load_breast_cancer()\n",
    "X = cancer.data\n",
    "y = cancer.target\n",
    "\n",
    "illustrate_result(X,y)\n"
   ]
  }
 ],
 "metadata": {
  "kernelspec": {
   "display_name": "Python 3",
   "language": "python",
   "name": "python3"
  },
  "language_info": {
   "codemirror_mode": {
    "name": "ipython",
    "version": 3
   },
   "file_extension": ".py",
   "mimetype": "text/x-python",
   "name": "python",
   "nbconvert_exporter": "python",
   "pygments_lexer": "ipython3",
   "version": "3.8.10"
  },
  "orig_nbformat": 4,
  "vscode": {
   "interpreter": {
    "hash": "916dbcbb3f70747c44a77c7bcd40155683ae19c65e1c03b4aa3499c5328201f1"
   }
  }
 },
 "nbformat": 4,
 "nbformat_minor": 2
}
